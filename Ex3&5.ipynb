{
 "cells": [
  {
   "cell_type": "code",
   "execution_count": 1,
   "metadata": {
    "_cell_guid": "b1076dfc-b9ad-4769-8c92-a6c4dae69d19",
    "_uuid": "8f2839f25d086af736a60e9eeb907d3b93b6e0e5"
   },
   "outputs": [],
   "source": [
    "import numpy as np\n",
    "import pandas as pd\n",
    "import matplotlib.pyplot as plt \n",
    "import seaborn as sns\n",
    "import os\n",
    "from matplotlib import rcParams"
   ]
  },
  {
   "cell_type": "code",
   "execution_count": 2,
   "metadata": {
    "_cell_guid": "79c7e3d0-c299-4dcb-8224-4455121ee9b0",
    "_uuid": "d629ff2d2480ee46fbb7e2d37f6b5fab8052498a"
   },
   "outputs": [
    {
     "data": {
      "text/html": [
       "<div>\n",
       "<style scoped>\n",
       "    .dataframe tbody tr th:only-of-type {\n",
       "        vertical-align: middle;\n",
       "    }\n",
       "\n",
       "    .dataframe tbody tr th {\n",
       "        vertical-align: top;\n",
       "    }\n",
       "\n",
       "    .dataframe thead th {\n",
       "        text-align: right;\n",
       "    }\n",
       "</style>\n",
       "<table border=\"1\" class=\"dataframe\">\n",
       "  <thead>\n",
       "    <tr style=\"text-align: right;\">\n",
       "      <th></th>\n",
       "      <th>Rank</th>\n",
       "      <th>Name</th>\n",
       "      <th>Genre</th>\n",
       "      <th>ESRB_Rating</th>\n",
       "      <th>Platform</th>\n",
       "      <th>Publisher</th>\n",
       "      <th>Developer</th>\n",
       "      <th>Critic_Score</th>\n",
       "      <th>User_Score</th>\n",
       "      <th>Total_Shipped</th>\n",
       "      <th>Global_Sales</th>\n",
       "      <th>NA_Sales</th>\n",
       "      <th>PAL_Sales</th>\n",
       "      <th>JP_Sales</th>\n",
       "      <th>Other_Sales</th>\n",
       "      <th>Year</th>\n",
       "    </tr>\n",
       "  </thead>\n",
       "  <tbody>\n",
       "    <tr>\n",
       "      <th>0</th>\n",
       "      <td>1</td>\n",
       "      <td>Wii Sports</td>\n",
       "      <td>Sports</td>\n",
       "      <td>E</td>\n",
       "      <td>Wii</td>\n",
       "      <td>Nintendo</td>\n",
       "      <td>Nintendo EAD</td>\n",
       "      <td>7.7</td>\n",
       "      <td>NaN</td>\n",
       "      <td>82.86</td>\n",
       "      <td>NaN</td>\n",
       "      <td>NaN</td>\n",
       "      <td>NaN</td>\n",
       "      <td>NaN</td>\n",
       "      <td>NaN</td>\n",
       "      <td>2006.0</td>\n",
       "    </tr>\n",
       "    <tr>\n",
       "      <th>1</th>\n",
       "      <td>2</td>\n",
       "      <td>Super Mario Bros.</td>\n",
       "      <td>Platform</td>\n",
       "      <td>NaN</td>\n",
       "      <td>NES</td>\n",
       "      <td>Nintendo</td>\n",
       "      <td>Nintendo EAD</td>\n",
       "      <td>10.0</td>\n",
       "      <td>NaN</td>\n",
       "      <td>40.24</td>\n",
       "      <td>NaN</td>\n",
       "      <td>NaN</td>\n",
       "      <td>NaN</td>\n",
       "      <td>NaN</td>\n",
       "      <td>NaN</td>\n",
       "      <td>1985.0</td>\n",
       "    </tr>\n",
       "    <tr>\n",
       "      <th>2</th>\n",
       "      <td>3</td>\n",
       "      <td>Mario Kart Wii</td>\n",
       "      <td>Racing</td>\n",
       "      <td>E</td>\n",
       "      <td>Wii</td>\n",
       "      <td>Nintendo</td>\n",
       "      <td>Nintendo EAD</td>\n",
       "      <td>8.2</td>\n",
       "      <td>9.1</td>\n",
       "      <td>37.14</td>\n",
       "      <td>NaN</td>\n",
       "      <td>NaN</td>\n",
       "      <td>NaN</td>\n",
       "      <td>NaN</td>\n",
       "      <td>NaN</td>\n",
       "      <td>2008.0</td>\n",
       "    </tr>\n",
       "    <tr>\n",
       "      <th>3</th>\n",
       "      <td>4</td>\n",
       "      <td>PlayerUnknown's Battlegrounds</td>\n",
       "      <td>Shooter</td>\n",
       "      <td>NaN</td>\n",
       "      <td>PC</td>\n",
       "      <td>PUBG Corporation</td>\n",
       "      <td>PUBG Corporation</td>\n",
       "      <td>NaN</td>\n",
       "      <td>NaN</td>\n",
       "      <td>36.60</td>\n",
       "      <td>NaN</td>\n",
       "      <td>NaN</td>\n",
       "      <td>NaN</td>\n",
       "      <td>NaN</td>\n",
       "      <td>NaN</td>\n",
       "      <td>2017.0</td>\n",
       "    </tr>\n",
       "    <tr>\n",
       "      <th>4</th>\n",
       "      <td>5</td>\n",
       "      <td>Wii Sports Resort</td>\n",
       "      <td>Sports</td>\n",
       "      <td>E</td>\n",
       "      <td>Wii</td>\n",
       "      <td>Nintendo</td>\n",
       "      <td>Nintendo EAD</td>\n",
       "      <td>8.0</td>\n",
       "      <td>8.8</td>\n",
       "      <td>33.09</td>\n",
       "      <td>NaN</td>\n",
       "      <td>NaN</td>\n",
       "      <td>NaN</td>\n",
       "      <td>NaN</td>\n",
       "      <td>NaN</td>\n",
       "      <td>2009.0</td>\n",
       "    </tr>\n",
       "  </tbody>\n",
       "</table>\n",
       "</div>"
      ],
      "text/plain": [
       "   Rank                           Name     Genre ESRB_Rating Platform  \\\n",
       "0     1                     Wii Sports    Sports           E      Wii   \n",
       "1     2              Super Mario Bros.  Platform         NaN      NES   \n",
       "2     3                 Mario Kart Wii    Racing           E      Wii   \n",
       "3     4  PlayerUnknown's Battlegrounds   Shooter         NaN       PC   \n",
       "4     5              Wii Sports Resort    Sports           E      Wii   \n",
       "\n",
       "          Publisher         Developer  Critic_Score  User_Score  \\\n",
       "0          Nintendo      Nintendo EAD           7.7         NaN   \n",
       "1          Nintendo      Nintendo EAD          10.0         NaN   \n",
       "2          Nintendo      Nintendo EAD           8.2         9.1   \n",
       "3  PUBG Corporation  PUBG Corporation           NaN         NaN   \n",
       "4          Nintendo      Nintendo EAD           8.0         8.8   \n",
       "\n",
       "   Total_Shipped  Global_Sales  NA_Sales  PAL_Sales  JP_Sales  Other_Sales  \\\n",
       "0          82.86           NaN       NaN        NaN       NaN          NaN   \n",
       "1          40.24           NaN       NaN        NaN       NaN          NaN   \n",
       "2          37.14           NaN       NaN        NaN       NaN          NaN   \n",
       "3          36.60           NaN       NaN        NaN       NaN          NaN   \n",
       "4          33.09           NaN       NaN        NaN       NaN          NaN   \n",
       "\n",
       "     Year  \n",
       "0  2006.0  \n",
       "1  1985.0  \n",
       "2  2008.0  \n",
       "3  2017.0  \n",
       "4  2009.0  "
      ]
     },
     "execution_count": 2,
     "metadata": {},
     "output_type": "execute_result"
    }
   ],
   "source": [
    "df = pd.read_csv('C:/Users/Dhanush/Desktop/Data analytics lab/vgsales-12-4-2019-short.csv')\n",
    "df.head()"
   ]
  },
  {
   "cell_type": "code",
   "execution_count": 3,
   "metadata": {},
   "outputs": [
    {
     "data": {
      "text/html": [
       "<div>\n",
       "<style scoped>\n",
       "    .dataframe tbody tr th:only-of-type {\n",
       "        vertical-align: middle;\n",
       "    }\n",
       "\n",
       "    .dataframe tbody tr th {\n",
       "        vertical-align: top;\n",
       "    }\n",
       "\n",
       "    .dataframe thead th {\n",
       "        text-align: right;\n",
       "    }\n",
       "</style>\n",
       "<table border=\"1\" class=\"dataframe\">\n",
       "  <thead>\n",
       "    <tr style=\"text-align: right;\">\n",
       "      <th></th>\n",
       "      <th>Rank</th>\n",
       "      <th>Critic_Score</th>\n",
       "      <th>User_Score</th>\n",
       "      <th>Total_Shipped</th>\n",
       "      <th>Global_Sales</th>\n",
       "      <th>NA_Sales</th>\n",
       "      <th>PAL_Sales</th>\n",
       "      <th>JP_Sales</th>\n",
       "      <th>Other_Sales</th>\n",
       "      <th>Year</th>\n",
       "    </tr>\n",
       "  </thead>\n",
       "  <tbody>\n",
       "    <tr>\n",
       "      <th>count</th>\n",
       "      <td>55792.000000</td>\n",
       "      <td>6536.000000</td>\n",
       "      <td>335.000000</td>\n",
       "      <td>1827.000000</td>\n",
       "      <td>19415.000000</td>\n",
       "      <td>12964.000000</td>\n",
       "      <td>13189.000000</td>\n",
       "      <td>7043.000000</td>\n",
       "      <td>15522.000000</td>\n",
       "      <td>54813.000000</td>\n",
       "    </tr>\n",
       "    <tr>\n",
       "      <th>mean</th>\n",
       "      <td>27896.500000</td>\n",
       "      <td>7.213709</td>\n",
       "      <td>8.253433</td>\n",
       "      <td>1.887258</td>\n",
       "      <td>0.365503</td>\n",
       "      <td>0.275541</td>\n",
       "      <td>0.155263</td>\n",
       "      <td>0.110402</td>\n",
       "      <td>0.044719</td>\n",
       "      <td>2005.659095</td>\n",
       "    </tr>\n",
       "    <tr>\n",
       "      <th>std</th>\n",
       "      <td>16105.907446</td>\n",
       "      <td>1.454079</td>\n",
       "      <td>1.401489</td>\n",
       "      <td>4.195693</td>\n",
       "      <td>0.833022</td>\n",
       "      <td>0.512809</td>\n",
       "      <td>0.399257</td>\n",
       "      <td>0.184673</td>\n",
       "      <td>0.129554</td>\n",
       "      <td>8.355585</td>\n",
       "    </tr>\n",
       "    <tr>\n",
       "      <th>min</th>\n",
       "      <td>1.000000</td>\n",
       "      <td>1.000000</td>\n",
       "      <td>2.000000</td>\n",
       "      <td>0.030000</td>\n",
       "      <td>0.000000</td>\n",
       "      <td>0.000000</td>\n",
       "      <td>0.000000</td>\n",
       "      <td>0.000000</td>\n",
       "      <td>0.000000</td>\n",
       "      <td>1970.000000</td>\n",
       "    </tr>\n",
       "    <tr>\n",
       "      <th>25%</th>\n",
       "      <td>13948.750000</td>\n",
       "      <td>6.400000</td>\n",
       "      <td>7.800000</td>\n",
       "      <td>0.200000</td>\n",
       "      <td>0.030000</td>\n",
       "      <td>0.050000</td>\n",
       "      <td>0.010000</td>\n",
       "      <td>0.020000</td>\n",
       "      <td>0.000000</td>\n",
       "      <td>2000.000000</td>\n",
       "    </tr>\n",
       "    <tr>\n",
       "      <th>50%</th>\n",
       "      <td>27896.500000</td>\n",
       "      <td>7.500000</td>\n",
       "      <td>8.500000</td>\n",
       "      <td>0.590000</td>\n",
       "      <td>0.120000</td>\n",
       "      <td>0.120000</td>\n",
       "      <td>0.040000</td>\n",
       "      <td>0.050000</td>\n",
       "      <td>0.010000</td>\n",
       "      <td>2008.000000</td>\n",
       "    </tr>\n",
       "    <tr>\n",
       "      <th>75%</th>\n",
       "      <td>41844.250000</td>\n",
       "      <td>8.300000</td>\n",
       "      <td>9.100000</td>\n",
       "      <td>1.800000</td>\n",
       "      <td>0.360000</td>\n",
       "      <td>0.290000</td>\n",
       "      <td>0.140000</td>\n",
       "      <td>0.120000</td>\n",
       "      <td>0.040000</td>\n",
       "      <td>2011.000000</td>\n",
       "    </tr>\n",
       "    <tr>\n",
       "      <th>max</th>\n",
       "      <td>55792.000000</td>\n",
       "      <td>10.000000</td>\n",
       "      <td>10.000000</td>\n",
       "      <td>82.860000</td>\n",
       "      <td>20.320000</td>\n",
       "      <td>9.760000</td>\n",
       "      <td>9.850000</td>\n",
       "      <td>2.690000</td>\n",
       "      <td>3.120000</td>\n",
       "      <td>2020.000000</td>\n",
       "    </tr>\n",
       "  </tbody>\n",
       "</table>\n",
       "</div>"
      ],
      "text/plain": [
       "               Rank  Critic_Score  User_Score  Total_Shipped  Global_Sales  \\\n",
       "count  55792.000000   6536.000000  335.000000    1827.000000  19415.000000   \n",
       "mean   27896.500000      7.213709    8.253433       1.887258      0.365503   \n",
       "std    16105.907446      1.454079    1.401489       4.195693      0.833022   \n",
       "min        1.000000      1.000000    2.000000       0.030000      0.000000   \n",
       "25%    13948.750000      6.400000    7.800000       0.200000      0.030000   \n",
       "50%    27896.500000      7.500000    8.500000       0.590000      0.120000   \n",
       "75%    41844.250000      8.300000    9.100000       1.800000      0.360000   \n",
       "max    55792.000000     10.000000   10.000000      82.860000     20.320000   \n",
       "\n",
       "           NA_Sales     PAL_Sales     JP_Sales   Other_Sales          Year  \n",
       "count  12964.000000  13189.000000  7043.000000  15522.000000  54813.000000  \n",
       "mean       0.275541      0.155263     0.110402      0.044719   2005.659095  \n",
       "std        0.512809      0.399257     0.184673      0.129554      8.355585  \n",
       "min        0.000000      0.000000     0.000000      0.000000   1970.000000  \n",
       "25%        0.050000      0.010000     0.020000      0.000000   2000.000000  \n",
       "50%        0.120000      0.040000     0.050000      0.010000   2008.000000  \n",
       "75%        0.290000      0.140000     0.120000      0.040000   2011.000000  \n",
       "max        9.760000      9.850000     2.690000      3.120000   2020.000000  "
      ]
     },
     "execution_count": 3,
     "metadata": {},
     "output_type": "execute_result"
    }
   ],
   "source": [
    "df.describe()"
   ]
  },
  {
   "cell_type": "code",
   "execution_count": 25,
   "metadata": {
    "scrolled": true
   },
   "outputs": [
    {
     "data": {
      "text/plain": [
       "<matplotlib.axes._subplots.AxesSubplot at 0x2c9bad30550>"
      ]
     },
     "execution_count": 25,
     "metadata": {},
     "output_type": "execute_result"
    },
    {
     "data": {
      "image/png": "[encoded data removed]",
      "text/plain": [
       "<Figure size 432x288 with 1 Axes>"
      ]
     },
     "metadata": {
      "needs_background": "light"
     },
     "output_type": "display_data"
    }
   ],
   "source": [
    "df['User_Score'].hist(bins=50)"
   ]
  },
  {
   "cell_type": "code",
   "execution_count": 5,
   "metadata": {},
   "outputs": [
    {
     "data": {
      "text/plain": [
       "<matplotlib.axes._subplots.AxesSubplot at 0x2c9ac7d5cc0>"
      ]
     },
     "execution_count": 5,
     "metadata": {},
     "output_type": "execute_result"
    },
    {
     "data": {
      "image/png": "[encoded data removed]",
      "text/plain": [
       "<Figure size 432x288 with 1 Axes>"
      ]
     },
     "metadata": {
      "needs_background": "light"
     },
     "output_type": "display_data"
    }
   ],
   "source": [
    "df.boxplot(column='Critic_Score')"
   ]
  },
  {
   "cell_type": "code",
   "execution_count": 6,
   "metadata": {},
   "outputs": [
    {
     "name": "stdout",
     "output_type": "stream",
     "text": [
      "Frequency Table for Genre:\n",
      "Sandbox                9\n",
      "Education             12\n",
      "Board Game            16\n",
      "MMO                   74\n",
      "Party                 75\n",
      "Music                195\n",
      "Visual Novel         260\n",
      "Action-Adventure     609\n",
      "Fighting            2085\n",
      "Simulation          2737\n",
      "Racing              3030\n",
      "Puzzle              3162\n",
      "Strategy            3266\n",
      "Platform            3445\n",
      "Role-Playing        4551\n",
      "Shooter             4586\n",
      "Sports              5244\n",
      "Adventure           5293\n",
      "Action              7667\n",
      "Misc                9476\n",
      "Name: Genre, dtype: int64\n",
      "\n",
      "Percentage of each genre:\n",
      "{'Sports': 9.4, 'Platform': 6.17, 'Racing': 5.43, 'Shooter': 8.22, 'Role-Playing': 8.16, 'Puzzle': 5.67, 'Misc': 16.98, 'Party': 0.13, 'Simulation': 4.91, 'Action': 13.74, 'Action-Adventure': 1.09, 'Fighting': 3.74, 'Strategy': 5.85, 'Adventure': 9.49, 'Music': 0.35, 'MMO': 0.13, 'Sandbox': 0.02, 'Visual Novel': 0.47, 'Board Game': 0.03, 'Education': 0.02}\n"
     ]
    }
   ],
   "source": [
    "from collections import Counter\n",
    "temp1 = df['Genre'].value_counts(ascending=True)\n",
    "temp2 = dict(Counter(df['Genre']))\n",
    "count_row = df.shape[0]\n",
    "for i in temp2:\n",
    "    temp2[i]=round((temp2[i]/count_row)*100,2)\n",
    "print ('Frequency Table for Genre:') \n",
    "print (temp1)\n",
    "\n",
    "print ('\\nPercentage of each genre:')\n",
    "print (temp2)"
   ]
  },
  {
   "cell_type": "code",
   "execution_count": 8,
   "metadata": {
    "scrolled": true
   },
   "outputs": [
    {
     "data": {
      "image/png": "[encoded data removed]",
      "text/plain": [
       "<Figure size 5040x720 with 1 Axes>"
      ]
     },
     "metadata": {
      "needs_background": "light"
     },
     "output_type": "display_data"
    }
   ],
   "source": [
    "lists = sorted(temp2.items())\n",
    "fig = plt.figure(figsize=(70,10))\n",
    "ax1 = fig.add_subplot(121)\n",
    "ax1.set_xlabel('Genres')\n",
    "ax1.set_ylabel('Genres percentage')\n",
    "ax1.set_title(\"Probability of each genre\")\n",
    "x, y = zip(*lists)\n",
    "plt.bar(x, y)\n",
    "plt.show()\n"
   ]
  },
  {
   "cell_type": "code",
   "execution_count": 9,
   "metadata": {},
   "outputs": [
    {
     "data": {
      "image/png": "[encoded data removed]",
      "text/plain": [
       "<Figure size 432x288 with 1 Axes>"
      ]
     },
     "metadata": {},
     "output_type": "display_data"
    }
   ],
   "source": [
    "figureObject, axesObject = plt.subplots()\n",
    "\n",
    "axesObject.pie(y,labels=x,autopct='%1.2f',startangle=90)\n",
    "axesObject.axis('equal')\n",
    "plt.show()\n",
    "\n"
   ]
  },
  {
   "cell_type": "code",
   "execution_count": 10,
   "metadata": {},
   "outputs": [
    {
     "data": {
      "image/png": "[encoded data removed]",
      "text/plain": [
       "<Figure size 2160x720 with 1 Axes>"
      ]
     },
     "metadata": {
      "needs_background": "light"
     },
     "output_type": "display_data"
    }
   ],
   "source": [
    "lists = sorted(temp2.items())\n",
    "fig = plt.figure(figsize=(30,10))\n",
    "ax1 = fig.add_subplot(121)\n",
    "ax1.set_xlabel('Genres')\n",
    "ax1.set_ylabel('Genres percentage')\n",
    "ax1.set_title(\"Probability of each genre\")\n",
    "x, y = zip(*lists)\n",
    "plt.scatter(x, y)\n",
    "plt.show()\n"
   ]
  },
  {
   "cell_type": "code",
   "execution_count": 11,
   "metadata": {},
   "outputs": [
    {
     "name": "stdout",
     "output_type": "stream",
     "text": [
      "Arithmetic mean: 7.21370869033052\n"
     ]
    }
   ],
   "source": [
    "list1=list(df['Critic_Score'])\n",
    "cleanedList = [x for x in list1 if str(x) != 'nan']\n",
    "mean_ar=sum(cleanedList)/len(cleanedList)\n",
    "print('Arithmetic mean:',mean_ar)"
   ]
  },
  {
   "cell_type": "code",
   "execution_count": 12,
   "metadata": {},
   "outputs": [
    {
     "name": "stdout",
     "output_type": "stream",
     "text": [
      "Geometric mean: 7.030451161248241\n"
     ]
    }
   ],
   "source": [
    "import scipy\n",
    "mean_gr=scipy.stats.mstats.gmean(cleanedList)\n",
    "print('Geometric mean:',mean_gr)"
   ]
  },
  {
   "cell_type": "code",
   "execution_count": 13,
   "metadata": {},
   "outputs": [
    {
     "name": "stdout",
     "output_type": "stream",
     "text": [
      "Harmonic mean: 6.7824529728005345\n"
     ]
    }
   ],
   "source": [
    "mean_hr=scipy.stats.mstats.hmean(cleanedList)\n",
    "print('Harmonic mean:',mean_hr)"
   ]
  },
  {
   "cell_type": "code",
   "execution_count": 14,
   "metadata": {},
   "outputs": [
    {
     "name": "stdout",
     "output_type": "stream",
     "text": [
      "1.9000000000000004\n"
     ]
    }
   ],
   "source": [
    "iqr=scipy.stats.iqr(cleanedList, axis=None, rng=(25, 75), scale='raw', nan_policy='propagate', interpolation='linear', keepdims=False)\n",
    "print(iqr)"
   ]
  },
  {
   "cell_type": "code",
   "execution_count": null,
   "metadata": {},
   "outputs": [],
   "source": []
  },
  {
   "cell_type": "code",
   "execution_count": null,
   "metadata": {},
   "outputs": [],
   "source": []
  }
 ],
 "metadata": {
  "kernelspec": {
   "display_name": "Python 3",
   "language": "python",
   "name": "python3"
  },
  "language_info": {
   "codemirror_mode": {
    "name": "ipython",
    "version": 3
   },
   "file_extension": ".py",
   "mimetype": "text/x-python",
   "name": "python",
   "nbconvert_exporter": "python",
   "pygments_lexer": "ipython3",
   "version": "3.7.3"
  }
 },
 "nbformat": 4,
 "nbformat_minor": 1
}
